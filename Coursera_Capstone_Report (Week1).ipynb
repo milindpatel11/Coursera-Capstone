{
    "nbformat_minor": 1, 
    "cells": [
        {
            "source": "# Capstone Report (Week 1)", 
            "cell_type": "markdown", 
            "metadata": {
                "collapsed": true
            }
        }, 
        {
            "source": "**Introduction**", 
            "cell_type": "markdown", 
            "metadata": {}
        }, 
        {
            "source": "Food and restuarant services seem attractive businesses in the United States but there are a few challanges to running successful business in this industry. First, this industry is highly competitive. Second, diversity of food types and competition in those are significant as well. In addition, preference of locals (and tourists in some cases) can be wide ranging depending on state, city and even nirghbourhood. Thus as a business owner who wants to open business in this industry, challanges are paramount even if he/she is resident of the city. It is even more challanging to open the same business another city that you know little about, regardless wether you are planning to move or trying to expand your successful business to another city or neighbourhood. Thus it is imperative that business owner considers all the factors and variables that can affect success of business before he/she invests significant amount of time and resources in opening a new restaurant. These consideration can include local taste, similiarity between neightbourhoods in terms of other restuarants and attractions, existing competition and so on.", 
            "cell_type": "markdown", 
            "metadata": {}
        }, 
        {
            "source": "**Business Problem**", 
            "cell_type": "markdown", 
            "metadata": {}
        }, 
        {
            "source": "Specific business problem at hand here concerns owner of successful Vegetarian/Vegan restuarant in Somerville, MA. His business had been good in somerville due to ideal demographics as well as moderate competition in the area. He now wants to reinvest some of his profits from last two years to open restaurant with same concept in another city (Atlanta or Nashville) with similar characteristics that can ensure higher chances of success for his new business location. Besides seeing if the city is a fit, he/she also needs to consider what neighbourhoods in these cities will most likely help him succeed.", 
            "cell_type": "markdown", 
            "metadata": {}
        }, 
        {
            "source": "**Data**", 
            "cell_type": "markdown", 
            "metadata": {}
        }, 
        {
            "source": "I will be using following sources of data:\n1. Foursqare - for venues and related data\n2. Wikipedia - to scrap data for neighbourhoods\n3. Geocode package or online dataset (depending on what works) - for location information on neighbourhoods\n4. Online sources: Population data, if needed\n\nFollowing specific data points will be used for analysis:\n1. Venues data: dDEtails of venue, number of venues in nieghbourhood, number of vanues by catagories, number of tips over all venues in neighbourhood etc.\n2. Neighbourhood data: City name, Boroughs and Neighbourhoods, and Zip codes.\n3. Location data: Longitude and lattitude information for Foursqare as well as for mapping", 
            "cell_type": "markdown", 
            "metadata": {}
        }, 
        {
            "source": "", 
            "cell_type": "markdown", 
            "metadata": {}
        }
    ], 
    "metadata": {
        "kernelspec": {
            "display_name": "Python 3.5", 
            "name": "python3", 
            "language": "python"
        }, 
        "language_info": {
            "mimetype": "text/x-python", 
            "nbconvert_exporter": "python", 
            "version": "3.5.5", 
            "name": "python", 
            "file_extension": ".py", 
            "pygments_lexer": "ipython3", 
            "codemirror_mode": {
                "version": 3, 
                "name": "ipython"
            }
        }
    }, 
    "nbformat": 4
}